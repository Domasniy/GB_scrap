{
 "cells": [
  {
   "cell_type": "code",
   "execution_count": 1,
   "metadata": {},
   "outputs": [],
   "source": [
    "from bs4 import BeautifulSoup as bs\n",
    "import requests\n",
    "from pprint import pprint\n",
    "import pandas as pd\n",
    "import re"
   ]
  },
  {
   "cell_type": "code",
   "execution_count": 2,
   "metadata": {},
   "outputs": [],
   "source": [
    "vacancies = []\n",
    "more_page = True"
   ]
  },
  {
   "cell_type": "code",
   "execution_count": 3,
   "metadata": {},
   "outputs": [],
   "source": [
    "#Функция обработки отдельного блока вакансии\n",
    "def get_vacancy_info(vacancy):\n",
    "    #Название вакансии\n",
    "    vacancy_name = vacancy.find('span',{'class':'resume-search-item__name'}).text\n",
    "    #Зарплата\n",
    "    vacancy_salary = vacancy.find('div',{'class':'vacancy-serp-item__sidebar'}).text.replace(\"\\xa0\",\"\")\n",
    "    if not vacancy_salary or vacancy_salary == 'По договоренности':\n",
    "        salary_min = None\n",
    "        salary_max = None\n",
    "        salary_cur = None\n",
    "    elif re.findall(r'^\\w+', vacancy_salary)[0] == 'от':\n",
    "        salary_min = re.findall(r'\\d+', vacancy_salary)[0]\n",
    "        salary_max = None\n",
    "        salary_cur = re.findall(r'\\w+', vacancy_salary)[-1]\n",
    "    elif re.findall(r'^\\w+', vacancy_salary)[0] == 'до':\n",
    "        salary_max = re.findall(r'\\d+', vacancy_salary)[0]\n",
    "        salary_min = None\n",
    "        salary_cur = re.findall(r'\\w+', vacancy_salary)[-1]\n",
    "    else:\n",
    "        salary_min = re.findall(r'\\w+', vacancy_salary)[0]\n",
    "        salary_max = re.findall(r'\\w+', vacancy_salary)[1]\n",
    "        salary_cur = re.findall(r'\\w+', vacancy_salary)[-1]\n",
    "    \n",
    "    #Ссылка\n",
    "    vacancy_url = vacancy.find('span',{'class':'resume-search-item__name'}).a['href']\n",
    "    return [vacancy_name, salary_min, salary_max, salary_cur, vacancy_url]"
   ]
  },
  {
   "cell_type": "code",
   "execution_count": 4,
   "metadata": {},
   "outputs": [],
   "source": [
    "#Функция обработки отдельных страниц\n",
    "def parse_page(url):\n",
    "    print(f'Parsing url: {url}')\n",
    "    \n",
    "    response = requests.get(url,headers=headers)\n",
    "    soup = bs(response.text, 'lxml')      \n",
    "    vacancy_all = soup.findAll('div', {'class':'vacancy-serp-item'})\n",
    "    for vac in vacancy_all:\n",
    "      vacancies.append(get_vacancy_info(vac))\n",
    "    try:\n",
    "        # проверяем есть ли кнопка Далее, и если есть возращаем линк, если нет возращаем False\n",
    "        new_link = 'https://hh.ru' + soup.find('a',{'class':'HH-Pager-Controls-Next'})['href']\n",
    "        return new_link\n",
    "    except:\n",
    "        return False"
   ]
  },
  {
   "cell_type": "code",
   "execution_count": 5,
   "metadata": {},
   "outputs": [],
   "source": [
    "job_title = input('Введите название должности: ')\n",
    "main_link = 'https://hh.ru/search/vacancy'\n",
    "params = {'text':job_title, 'page' :'0'}\n",
    "headers = {'User-Agent': 'Mozilla/5.0'}"
   ]
  },
  {
   "cell_type": "code",
   "execution_count": 6,
   "metadata": {},
   "outputs": [],
   "source": [
    "response = requests.get(main_link,params=params, headers=headers)\n",
    "soup = bs(response.text, 'lxml')\n",
    "vacancy_all = soup.findAll('div', {'class':'vacancy-serp-item'})\n",
    "for vac in vacancy_all:\n",
    "    vacancies.append(get_vacancy_info(vac))"
   ]
  },
  {
   "cell_type": "code",
   "execution_count": 7,
   "metadata": {
    "tags": [
     "outputPrepend",
     "outputPrepend",
     "outputPrepend",
     "outputPrepend",
     "outputPrepend",
     "outputPrepend"
    ]
   },
   "outputs": [
    {
     "output_type": "stream",
     "name": "stdout",
     "text": "Parsing url: https://hh.ru/search/vacancy?L_is_autosearch=false&clusters=true&enable_snippets=true&text=Data+Science&page=1\nParsing url: https://hh.ru/search/vacancy?L_is_autosearch=false&clusters=true&enable_snippets=true&text=Data+Science&page=2\nParsing url: https://hh.ru/search/vacancy?L_is_autosearch=false&clusters=true&enable_snippets=true&text=Data+Science&page=3\nParsing url: https://hh.ru/search/vacancy?L_is_autosearch=false&clusters=true&enable_snippets=true&text=Data+Science&page=4\nParsing url: https://hh.ru/search/vacancy?L_is_autosearch=false&clusters=true&enable_snippets=true&text=Data+Science&page=5\nParsing url: https://hh.ru/search/vacancy?L_is_autosearch=false&clusters=true&enable_snippets=true&text=Data+Science&page=6\nParsing url: https://hh.ru/search/vacancy?L_is_autosearch=false&clusters=true&enable_snippets=true&text=Data+Science&page=7\nParsing url: https://hh.ru/search/vacancy?L_is_autosearch=false&clusters=true&enable_snippets=true&text=Data+Science&page=8\nParsing url: https://hh.ru/search/vacancy?L_is_autosearch=false&clusters=true&enable_snippets=true&text=Data+Science&page=9\nParsing url: https://hh.ru/search/vacancy?L_is_autosearch=false&clusters=true&enable_snippets=true&text=Data+Science&page=10\nParsing url: https://hh.ru/search/vacancy?L_is_autosearch=false&clusters=true&enable_snippets=true&text=Data+Science&page=11\nParsing url: https://hh.ru/search/vacancy?L_is_autosearch=false&clusters=true&enable_snippets=true&text=Data+Science&page=12\nParsing url: https://hh.ru/search/vacancy?L_is_autosearch=false&clusters=true&enable_snippets=true&text=Data+Science&page=13\nParsing url: https://hh.ru/search/vacancy?L_is_autosearch=false&clusters=true&enable_snippets=true&text=Data+Science&page=14\n"
    }
   ],
   "source": [
    "# Проверяем есть ли клавиша Далее, и даем либо новый линк, либо завершаем\n",
    "try:\n",
    "    new_link = 'https://hh.ru' + soup.find('a',{'class':'HH-Pager-Controls-Next'})['href']\n",
    "except:\n",
    "    more_page = False\n",
    "while more_page:\n",
    "    if not new_link:\n",
    "        break\n",
    "    new_link = parse_page(new_link)\n",
    "     "
   ]
  },
  {
   "cell_type": "code",
   "execution_count": 8,
   "metadata": {},
   "outputs": [
    {
     "output_type": "stream",
     "name": "stdout",
     "text": "Всего найдено 714 вакансий по запросу Data Science\n"
    }
   ],
   "source": [
    "print(f'Всего найдено {len(vacancies)} вакансий по запросу {job_title}')"
   ]
  },
  {
   "cell_type": "code",
   "execution_count": 9,
   "metadata": {},
   "outputs": [],
   "source": [
    "Data = pd.DataFrame(vacancies, columns = ['Название','Зарплата Мин','Зарплата Макс','Валюта','URL'])"
   ]
  },
  {
   "cell_type": "code",
   "execution_count": 10,
   "metadata": {},
   "outputs": [
    {
     "output_type": "execute_result",
     "data": {
      "text/plain": "                                              Название Зарплата Мин  \\\n0                                          Директор ИТ         None   \n1    Researcher in Mathematical Modeling and Algori...         None   \n2                                        UX Researcher         None   \n3                           Разработчик DWH [id 21076]         None   \n4                                Python Data Scientist       150000   \n..                                                 ...          ...   \n709                           Middle Android Developer         None   \n710                   Fullstack JavaScript разработчик       300000   \n711  Field Coordination Officer / Civil-Military Co...         None   \n712            Junior JavaScript Engineer (Full Stack)         None   \n713                                 Analyst (BI / SAP)         None   \n\n    Зарплата Макс Валюта                                                URL  \n0            None   None  https://hh.ru/vacancy/37364391?query=Data%20Sc...  \n1            None   None  https://hh.ru/vacancy/35441422?query=Data%20Sc...  \n2            None   None  https://hh.ru/vacancy/36703153?query=Data%20Sc...  \n3            None   None  https://hh.ru/vacancy/36308035?query=Data%20Sc...  \n4            None    руб  https://hh.ru/vacancy/36916080?query=Data%20Sc...  \n..            ...    ...                                                ...  \n709          None   None  https://hh.ru/vacancy/36814705?query=Data%20Sc...  \n710        700000    KZT  https://hh.ru/vacancy/37112096?query=Data%20Sc...  \n711          None   None  https://hh.ru/vacancy/37096010?query=Data%20Sc...  \n712          None   None  https://hh.ru/vacancy/37048363?query=Data%20Sc...  \n713          None   None  https://hh.ru/vacancy/36919145?query=Data%20Sc...  \n\n[714 rows x 5 columns]",
      "text/html": "<div>\n<style scoped>\n    .dataframe tbody tr th:only-of-type {\n        vertical-align: middle;\n    }\n\n    .dataframe tbody tr th {\n        vertical-align: top;\n    }\n\n    .dataframe thead th {\n        text-align: right;\n    }\n</style>\n<table border=\"1\" class=\"dataframe\">\n  <thead>\n    <tr style=\"text-align: right;\">\n      <th></th>\n      <th>Название</th>\n      <th>Зарплата Мин</th>\n      <th>Зарплата Макс</th>\n      <th>Валюта</th>\n      <th>URL</th>\n    </tr>\n  </thead>\n  <tbody>\n    <tr>\n      <th>0</th>\n      <td>Директор ИТ</td>\n      <td>None</td>\n      <td>None</td>\n      <td>None</td>\n      <td>https://hh.ru/vacancy/37364391?query=Data%20Sc...</td>\n    </tr>\n    <tr>\n      <th>1</th>\n      <td>Researcher in Mathematical Modeling and Algori...</td>\n      <td>None</td>\n      <td>None</td>\n      <td>None</td>\n      <td>https://hh.ru/vacancy/35441422?query=Data%20Sc...</td>\n    </tr>\n    <tr>\n      <th>2</th>\n      <td>UX Researcher</td>\n      <td>None</td>\n      <td>None</td>\n      <td>None</td>\n      <td>https://hh.ru/vacancy/36703153?query=Data%20Sc...</td>\n    </tr>\n    <tr>\n      <th>3</th>\n      <td>Разработчик DWH [id 21076]</td>\n      <td>None</td>\n      <td>None</td>\n      <td>None</td>\n      <td>https://hh.ru/vacancy/36308035?query=Data%20Sc...</td>\n    </tr>\n    <tr>\n      <th>4</th>\n      <td>Python Data Scientist</td>\n      <td>150000</td>\n      <td>None</td>\n      <td>руб</td>\n      <td>https://hh.ru/vacancy/36916080?query=Data%20Sc...</td>\n    </tr>\n    <tr>\n      <th>...</th>\n      <td>...</td>\n      <td>...</td>\n      <td>...</td>\n      <td>...</td>\n      <td>...</td>\n    </tr>\n    <tr>\n      <th>709</th>\n      <td>Middle Android Developer</td>\n      <td>None</td>\n      <td>None</td>\n      <td>None</td>\n      <td>https://hh.ru/vacancy/36814705?query=Data%20Sc...</td>\n    </tr>\n    <tr>\n      <th>710</th>\n      <td>Fullstack JavaScript разработчик</td>\n      <td>300000</td>\n      <td>700000</td>\n      <td>KZT</td>\n      <td>https://hh.ru/vacancy/37112096?query=Data%20Sc...</td>\n    </tr>\n    <tr>\n      <th>711</th>\n      <td>Field Coordination Officer / Civil-Military Co...</td>\n      <td>None</td>\n      <td>None</td>\n      <td>None</td>\n      <td>https://hh.ru/vacancy/37096010?query=Data%20Sc...</td>\n    </tr>\n    <tr>\n      <th>712</th>\n      <td>Junior JavaScript Engineer (Full Stack)</td>\n      <td>None</td>\n      <td>None</td>\n      <td>None</td>\n      <td>https://hh.ru/vacancy/37048363?query=Data%20Sc...</td>\n    </tr>\n    <tr>\n      <th>713</th>\n      <td>Analyst (BI / SAP)</td>\n      <td>None</td>\n      <td>None</td>\n      <td>None</td>\n      <td>https://hh.ru/vacancy/36919145?query=Data%20Sc...</td>\n    </tr>\n  </tbody>\n</table>\n<p>714 rows × 5 columns</p>\n</div>"
     },
     "metadata": {},
     "execution_count": 10
    }
   ],
   "source": [
    "Data"
   ]
  },
  {
   "cell_type": "code",
   "execution_count": null,
   "metadata": {},
   "outputs": [],
   "source": []
  }
 ],
 "metadata": {
  "language_info": {
   "codemirror_mode": {
    "name": "ipython",
    "version": 3
   },
   "file_extension": ".py",
   "mimetype": "text/x-python",
   "name": "python",
   "nbconvert_exporter": "python",
   "pygments_lexer": "ipython3",
   "version": "3.8.3-final"
  },
  "orig_nbformat": 2,
  "kernelspec": {
   "name": "python38032bit469b957ea6724d7195dbc0f0a07bae49",
   "display_name": "Python 3.8.0 32-bit"
  }
 },
 "nbformat": 4,
 "nbformat_minor": 2
}
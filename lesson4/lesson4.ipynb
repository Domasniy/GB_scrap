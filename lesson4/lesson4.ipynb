{
 "cells": [
  {
   "cell_type": "code",
   "execution_count": 1,
   "metadata": {},
   "outputs": [],
   "source": [
    "from pprint import pprint\n",
    "from lxml import html\n",
    "import requests\n",
    "from datetime import datetime, date\n",
    "import pandas as pd\n",
    "import time"
   ]
  },
  {
   "cell_type": "code",
   "execution_count": 2,
   "metadata": {},
   "outputs": [],
   "source": [
    "header = {'User-Agent':'Mozilla/5.0 (Windows NT 6.1; Win64; x64) AppleWebKit/537.36 (KHTML, like Gecko) Chrome/83.0.4103.106 Safari/537.36'}"
   ]
  },
  {
   "cell_type": "code",
   "execution_count": 3,
   "metadata": {},
   "outputs": [],
   "source": [
    "#yandex news parser\n",
    "response = requests.get('https://yandex.ru/news/',headers=header)\n",
    "ya_dom = html.fromstring(response.text)\n",
    "news_blocks = ya_dom.xpath(\"//td[@class='stories-set__item'] | //div[@class='story__content']\")\n",
    "news_ya = []\n",
    "for n in news_blocks:\n",
    "    item = {}\n",
    "    title = n.xpath(\".//h2/a/text()\")[0]\n",
    "    a = 'https://yandex.ru' + n.xpath(\".//h2/a/@href\")[0]\n",
    "    source = n.xpath(\".//div[@class='story__date']/text()\")[0][:-6]\n",
    "    date_news = datetime.now().replace(hour=int(n.xpath(\".//div[@class='story__date']/text()\")[0][-5:][:2]), minute=int(n.xpath(\".//div[@class='story__date']/text()\")[0][-5:][3:]))\n",
    "    item['title'] = title\n",
    "    item['url'] = a\n",
    "    item['source'] = source\n",
    "    item['date'] = date_news\n",
    "    news_ya.append(item)"
   ]
  },
  {
   "cell_type": "code",
   "execution_count": 4,
   "metadata": {},
   "outputs": [],
   "source": [
    "#lenta.ru parser\n",
    "response = requests.get('https://lenta.ru/',headers=header)\n",
    "lenta_dom = html.fromstring(response.text)\n",
    "news_blocks_top_lenta = lenta_dom.xpath(\"//section[contains(@class,'b-top7-for-main')]//div[contains(@class,'item')]\")\n",
    "news_blocks_other_lenta = lenta_dom.xpath(\"//section[contains(@class,'b-layout_main')]//div[contains(@class, 'b-tabloid__topic_news')] | //section[contains(@class,'b-layout_main')]//div[contains(@class, 'item') and contains(@class, 'article')]\")\n",
    "news_lenta = []\n",
    "for n in news_blocks_top_lenta:\n",
    "    item = {}\n",
    "    title = n.xpath(\".//a/text()\")[0].replace('\\xa0',' ')\n",
    "    if n.xpath(\".//a/@href\")[0].startswith('https://'):\n",
    "        a = n.xpath(\".//a/@href\")[0]\n",
    "    else:\n",
    "        a = 'https://lenta.ru' + n.xpath(\".//a/@href\")[0]\n",
    "    source = 'lenta.ru'\n",
    "    date_news = n.xpath(\".//a/time/@datetime\")[0].strip()\n",
    "    item['title'] = title\n",
    "    item['url'] = a\n",
    "    item['source'] = source\n",
    "    item['date'] = date_news\n",
    "    news_lenta.append(item)\n",
    "for n in news_blocks_other_lenta:\n",
    "    item = {}\n",
    "    title = '.'.join(n.xpath(\".//div[contains(@class, 'titles')]//text()\")).replace('\\xa0', ' ')\n",
    "    if n.xpath(\".//h3/a/@href\")[0].startswith('https://'):\n",
    "        a = n.xpath(\".//h3/a/@href\")[0]\n",
    "    else:\n",
    "        a = 'https://lenta.ru' + n.xpath(\".//h3/a/@href\")[0]\n",
    "    source = 'lenta.ru'\n",
    "    date_news = n.xpath(\".//span[contains(@class,'g-date item__date')]/text()\")\n",
    "    if not n.xpath(\".//span[contains(@class,'g-date item__date')]/text()\"):\n",
    "        date_time = datetime.now()\n",
    "    elif  'Сегодня' in n.xpath(\".//span[contains(@class,'g-date item__date')]/text()\"):\n",
    "        date_time = datetime.now().replace(hour=int(n.xpath(\".//span[contains(@class,'g-date item__date')]/span/text()\")[0][:2]), minute=int(n.xpath(\".//span[contains(@class,'g-date item__date')]/span/text()\")[0][3:]))\n",
    "    else:\n",
    "        date_time = datetime.now().replace(hour=int(n.xpath(\".//span[contains(@class,'g-date item__date')]/span/text()\")[0][:2]), minute=int(n.xpath(\".//span[contains(@class,'g-date item__date')]/span/text()\")[0][3:]), day = int(n.xpath(\".//span[contains(@class,'g-date item__date')]/text()\")[0][:2]))\n",
    "    item['title'] = title\n",
    "    item['url'] = a\n",
    "    item['source'] = source\n",
    "    item['date'] = date_time\n",
    "    news_lenta.append(item)    "
   ]
  },
  {
   "cell_type": "code",
   "execution_count": 5,
   "metadata": {},
   "outputs": [],
   "source": [
    "#news.mail.ru parser\n",
    "header = {'User-Agent':'Mozilla/5.0 (iPhone; CPU iPhone OS 10_3_1 like Mac OS X) AppleWebKit/603.1.30 (KHTML, like Gecko) Version/10.0 Mobile/14E304 Safari/602.1'}\n",
    "response = requests.get('https://news.mail.ru/',headers=header)\n",
    "mail_dom = html.fromstring(response.text)\n",
    "news_blocks_mail = mail_dom.xpath(\"//a[contains(@class,'item item_side_left entity')]\")\n",
    "news_mail = []\n",
    "for n in news_blocks_mail:\n",
    "    item = {}\n",
    "    if n.xpath(\"./@href\")[0].startswith('https://'):\n",
    "        a = n.xpath(\"./@href\")[0]\n",
    "    else:\n",
    "        a = 'https://news.mail.ru' + n.xpath(\"./@href\")[0]\n",
    "    time.sleep(1)\n",
    "    response_news = requests.get(a,headers=header)\n",
    "    temp_dom = html.fromstring(response_news.text)\n",
    "    title = temp_dom.xpath(\"//h1/text() | //div[@class='cover__title']/text()\")[0]\n",
    "    source = temp_dom.xpath(\"//div[contains(@class,'article__params')]//a/text() | //a[@class='link']//span[@class='link__text']/text()\")[0]\n",
    "    date = temp_dom.xpath(\"//div[contains(@class,'article__params')]//time/@datetime\")\n",
    "    item['title'] = title\n",
    "    item['url'] = a\n",
    "    item['source'] = source\n",
    "    item['date'] = ''.join(date)\n",
    "    news_mail.append(item)   "
   ]
  },
  {
   "cell_type": "markdown",
   "metadata": {},
   "source": [
    "### Новости Mail.ru"
   ]
  },
  {
   "cell_type": "code",
   "execution_count": 6,
   "metadata": {},
   "outputs": [
    {
     "output_type": "execute_result",
     "data": {
      "text/plain": "                                                title  \\\n0   Украина обвинила Стрелкова в пытках и объявила...   \n1        США разрушили нефтяной рынок союзника России   \n2   Виктория Боня назвала живущих на МРОТ «алкогол...   \n3       Показаны лучшие фото с высоты птичьего полета   \n4   Москва перешла к новому этапу снятия ограничен...   \n5   Более 50 пациентов с коронавирусом скончались ...   \n6   В Москве проведут эксперимент по снижению стои...   \n7   Строительство ЦКАД с учетом доводки подорожало...   \n8   У жительницы Москвы похитили с банковских счет...   \n9   В Госдуму внесен законопроект о регулировании ...   \n10  Евросоюз призвал расследовать военные преступл...   \n11  Федеральные власти США решили вернуть смертную...   \n12                                     Опасные соседи   \n13  Миллионер Александр Лебедев запустит в России ...   \n14  Росавиация одобрила авиакомпаниям субсидии на ...   \n15  Подпольный заработок. Как подвалы и чердаки жи...   \n16  Российские школы оборудуют камерами с функцией...   \n17     В Канаде заметили похожую на бурю птичью охоту   \n18  Над Пятигорском появилось огромное облако-гриб...   \n19  Письмо в бутылке от россиянки доплыло в Тайван...   \n20  Самец черепахи Диего спас свой вид от вымирани...   \n21  Четыре человека, включая полицейского, погибли...   \n22  СК возбудил новое уголовное дело против сотруд...   \n23  Россиян оштрафовали на 400 млн рублей за наруш...   \n24  В Грузии задержан россиянин по делу о подготов...   \n25  Следы наркотиков, смена адвокатов. Что происхо...   \n26    Все о голосовании по поправкам в Конституцию РФ   \n27  Чем лечат от COVID-19 в России и мире: гид по ...   \n28      Путин объявил о новых мерах поддержки россиян   \n29  Как будут организованы матчи чемпионата России...   \n30  Суперголу русского форварда Малкина — 11 лет. ...   \n31  «Тоттенхэм» вновь рассмотрит возможность подпи...   \n32  СМИ: Обладатель «Золотого мяча» Модрич хочет з...   \n\n                                            url                   source  \\\n0       https://news.mail.ru/politics/42209406/                      РБК   \n1      https://news.mail.ru/economics/42207481/                 Lenta.Ru   \n2        https://news.mail.ru/society/42208595/                      RNS   \n3        https://news.mail.ru/society/42206354/          Новости Mail.ru   \n4        https://news.mail.ru/society/42199317/                 Известия   \n5       https://news.mail.ru/incident/42198732/                Интерфакс   \n6        https://news.mail.ru/society/42205838/                      РБК   \n7        https://news.mail.ru/society/42201074/                Интерфакс   \n8       https://news.mail.ru/incident/42201605/                     ТАСС   \n9       https://news.mail.ru/politics/42205558/              Коммерсантъ   \n10      https://news.mail.ru/politics/42206964/                 Lenta.Ru   \n11      https://news.mail.ru/politics/42203780/                Газета.Ру   \n12      https://news.mail.ru/politics/42198733/                 Lenta.Ru   \n13     https://news.mail.ru/economics/42205294/                      РБК   \n14     https://news.mail.ru/economics/42205300/              РИА Новости   \n15     https://news.mail.ru/economics/42203579/                  Life.ru   \n16     https://news.mail.ru/economics/42202956/              РИА Новости   \n17       https://news.mail.ru/society/42209525/          Новости Mail.ru   \n18       https://news.mail.ru/society/42209048/           Погода Mail.ru   \n19       https://news.mail.ru/society/42207482/                 Lenta.Ru   \n20       https://news.mail.ru/society/42207233/  BBC News Русская служба   \n21      https://news.mail.ru/incident/42207895/                Интерфакс   \n22      https://news.mail.ru/incident/42207230/                      РБК   \n23      https://news.mail.ru/incident/42203281/             Секрет Фирмы   \n24      https://news.mail.ru/incident/42198979/                Интерфакс   \n25               https://news.mail.ru/card/240/  BBC News Русская служба   \n26               https://news.mail.ru/card/239/          Новости Mail.ru   \n27               https://news.mail.ru/card/238/                   Forbes   \n28               https://news.mail.ru/card/237/          Новости Mail.ru   \n29  https://r.mail.ru/n327576835?&rnd=193675817                     ТАСС   \n30  https://r.mail.ru/n327585623?&rnd=193675817                  Sport24   \n31  https://r.mail.ru/n327578102?&rnd=193675817            Чемпионат.com   \n32  https://r.mail.ru/n327576126?&rnd=193675817                     ТАСС   \n\n                         date  \n0   2020-06-16T16:27:45+03:00  \n1   2020-06-16T14:38:02+03:00  \n2   2020-06-16T15:44:32+03:00  \n3   2020-06-16T13:38:29+03:00  \n4   2020-06-16T10:36:25+03:00  \n5   2020-06-16T00:16:54+03:00  \n6   2020-06-16T13:25:08+03:00  \n7   2020-06-16T11:14:32+03:00  \n8   2020-06-16T09:08:35+03:00  \n9   2020-06-16T15:02:31+03:00  \n10  2020-06-16T14:20:07+03:00  \n11  2020-06-16T12:35:27+03:00  \n12  2020-06-16T12:00:14+03:00  \n13  2020-06-16T12:45:22+03:00  \n14  2020-06-16T12:37:27+03:00  \n15  2020-06-16T11:38:04+03:00  \n16  2020-06-16T10:41:44+03:00  \n17  2020-06-16T16:25:49+03:00  \n18  2020-06-16T16:07:02+03:00  \n19  2020-06-16T14:54:39+03:00  \n20  2020-06-16T14:47:01+03:00  \n21  2020-06-16T16:11:18+03:00  \n22  2020-06-16T15:42:22+03:00  \n23  2020-06-16T14:32:26+03:00  \n24  2020-06-16T12:06:19+03:00  \n25                             \n26                             \n27                             \n28                             \n29  2020-06-16T10:21:48+03:00  \n30  2020-06-16T12:57:11+03:00  \n31  2020-06-16T10:47:06+03:00  \n32  2020-06-16T10:14:20+03:00  ",
      "text/html": "<div>\n<style scoped>\n    .dataframe tbody tr th:only-of-type {\n        vertical-align: middle;\n    }\n\n    .dataframe tbody tr th {\n        vertical-align: top;\n    }\n\n    .dataframe thead th {\n        text-align: right;\n    }\n</style>\n<table border=\"1\" class=\"dataframe\">\n  <thead>\n    <tr style=\"text-align: right;\">\n      <th></th>\n      <th>title</th>\n      <th>url</th>\n      <th>source</th>\n      <th>date</th>\n    </tr>\n  </thead>\n  <tbody>\n    <tr>\n      <th>0</th>\n      <td>Украина обвинила Стрелкова в пытках и объявила...</td>\n      <td>https://news.mail.ru/politics/42209406/</td>\n      <td>РБК</td>\n      <td>2020-06-16T16:27:45+03:00</td>\n    </tr>\n    <tr>\n      <th>1</th>\n      <td>США разрушили нефтяной рынок союзника России</td>\n      <td>https://news.mail.ru/economics/42207481/</td>\n      <td>Lenta.Ru</td>\n      <td>2020-06-16T14:38:02+03:00</td>\n    </tr>\n    <tr>\n      <th>2</th>\n      <td>Виктория Боня назвала живущих на МРОТ «алкогол...</td>\n      <td>https://news.mail.ru/society/42208595/</td>\n      <td>RNS</td>\n      <td>2020-06-16T15:44:32+03:00</td>\n    </tr>\n    <tr>\n      <th>3</th>\n      <td>Показаны лучшие фото с высоты птичьего полета</td>\n      <td>https://news.mail.ru/society/42206354/</td>\n      <td>Новости Mail.ru</td>\n      <td>2020-06-16T13:38:29+03:00</td>\n    </tr>\n    <tr>\n      <th>4</th>\n      <td>Москва перешла к новому этапу снятия ограничен...</td>\n      <td>https://news.mail.ru/society/42199317/</td>\n      <td>Известия</td>\n      <td>2020-06-16T10:36:25+03:00</td>\n    </tr>\n    <tr>\n      <th>5</th>\n      <td>Более 50 пациентов с коронавирусом скончались ...</td>\n      <td>https://news.mail.ru/incident/42198732/</td>\n      <td>Интерфакс</td>\n      <td>2020-06-16T00:16:54+03:00</td>\n    </tr>\n    <tr>\n      <th>6</th>\n      <td>В Москве проведут эксперимент по снижению стои...</td>\n      <td>https://news.mail.ru/society/42205838/</td>\n      <td>РБК</td>\n      <td>2020-06-16T13:25:08+03:00</td>\n    </tr>\n    <tr>\n      <th>7</th>\n      <td>Строительство ЦКАД с учетом доводки подорожало...</td>\n      <td>https://news.mail.ru/society/42201074/</td>\n      <td>Интерфакс</td>\n      <td>2020-06-16T11:14:32+03:00</td>\n    </tr>\n    <tr>\n      <th>8</th>\n      <td>У жительницы Москвы похитили с банковских счет...</td>\n      <td>https://news.mail.ru/incident/42201605/</td>\n      <td>ТАСС</td>\n      <td>2020-06-16T09:08:35+03:00</td>\n    </tr>\n    <tr>\n      <th>9</th>\n      <td>В Госдуму внесен законопроект о регулировании ...</td>\n      <td>https://news.mail.ru/politics/42205558/</td>\n      <td>Коммерсантъ</td>\n      <td>2020-06-16T15:02:31+03:00</td>\n    </tr>\n    <tr>\n      <th>10</th>\n      <td>Евросоюз призвал расследовать военные преступл...</td>\n      <td>https://news.mail.ru/politics/42206964/</td>\n      <td>Lenta.Ru</td>\n      <td>2020-06-16T14:20:07+03:00</td>\n    </tr>\n    <tr>\n      <th>11</th>\n      <td>Федеральные власти США решили вернуть смертную...</td>\n      <td>https://news.mail.ru/politics/42203780/</td>\n      <td>Газета.Ру</td>\n      <td>2020-06-16T12:35:27+03:00</td>\n    </tr>\n    <tr>\n      <th>12</th>\n      <td>Опасные соседи</td>\n      <td>https://news.mail.ru/politics/42198733/</td>\n      <td>Lenta.Ru</td>\n      <td>2020-06-16T12:00:14+03:00</td>\n    </tr>\n    <tr>\n      <th>13</th>\n      <td>Миллионер Александр Лебедев запустит в России ...</td>\n      <td>https://news.mail.ru/economics/42205294/</td>\n      <td>РБК</td>\n      <td>2020-06-16T12:45:22+03:00</td>\n    </tr>\n    <tr>\n      <th>14</th>\n      <td>Росавиация одобрила авиакомпаниям субсидии на ...</td>\n      <td>https://news.mail.ru/economics/42205300/</td>\n      <td>РИА Новости</td>\n      <td>2020-06-16T12:37:27+03:00</td>\n    </tr>\n    <tr>\n      <th>15</th>\n      <td>Подпольный заработок. Как подвалы и чердаки жи...</td>\n      <td>https://news.mail.ru/economics/42203579/</td>\n      <td>Life.ru</td>\n      <td>2020-06-16T11:38:04+03:00</td>\n    </tr>\n    <tr>\n      <th>16</th>\n      <td>Российские школы оборудуют камерами с функцией...</td>\n      <td>https://news.mail.ru/economics/42202956/</td>\n      <td>РИА Новости</td>\n      <td>2020-06-16T10:41:44+03:00</td>\n    </tr>\n    <tr>\n      <th>17</th>\n      <td>В Канаде заметили похожую на бурю птичью охоту</td>\n      <td>https://news.mail.ru/society/42209525/</td>\n      <td>Новости Mail.ru</td>\n      <td>2020-06-16T16:25:49+03:00</td>\n    </tr>\n    <tr>\n      <th>18</th>\n      <td>Над Пятигорском появилось огромное облако-гриб...</td>\n      <td>https://news.mail.ru/society/42209048/</td>\n      <td>Погода Mail.ru</td>\n      <td>2020-06-16T16:07:02+03:00</td>\n    </tr>\n    <tr>\n      <th>19</th>\n      <td>Письмо в бутылке от россиянки доплыло в Тайван...</td>\n      <td>https://news.mail.ru/society/42207482/</td>\n      <td>Lenta.Ru</td>\n      <td>2020-06-16T14:54:39+03:00</td>\n    </tr>\n    <tr>\n      <th>20</th>\n      <td>Самец черепахи Диего спас свой вид от вымирани...</td>\n      <td>https://news.mail.ru/society/42207233/</td>\n      <td>BBC News Русская служба</td>\n      <td>2020-06-16T14:47:01+03:00</td>\n    </tr>\n    <tr>\n      <th>21</th>\n      <td>Четыре человека, включая полицейского, погибли...</td>\n      <td>https://news.mail.ru/incident/42207895/</td>\n      <td>Интерфакс</td>\n      <td>2020-06-16T16:11:18+03:00</td>\n    </tr>\n    <tr>\n      <th>22</th>\n      <td>СК возбудил новое уголовное дело против сотруд...</td>\n      <td>https://news.mail.ru/incident/42207230/</td>\n      <td>РБК</td>\n      <td>2020-06-16T15:42:22+03:00</td>\n    </tr>\n    <tr>\n      <th>23</th>\n      <td>Россиян оштрафовали на 400 млн рублей за наруш...</td>\n      <td>https://news.mail.ru/incident/42203281/</td>\n      <td>Секрет Фирмы</td>\n      <td>2020-06-16T14:32:26+03:00</td>\n    </tr>\n    <tr>\n      <th>24</th>\n      <td>В Грузии задержан россиянин по делу о подготов...</td>\n      <td>https://news.mail.ru/incident/42198979/</td>\n      <td>Интерфакс</td>\n      <td>2020-06-16T12:06:19+03:00</td>\n    </tr>\n    <tr>\n      <th>25</th>\n      <td>Следы наркотиков, смена адвокатов. Что происхо...</td>\n      <td>https://news.mail.ru/card/240/</td>\n      <td>BBC News Русская служба</td>\n      <td></td>\n    </tr>\n    <tr>\n      <th>26</th>\n      <td>Все о голосовании по поправкам в Конституцию РФ</td>\n      <td>https://news.mail.ru/card/239/</td>\n      <td>Новости Mail.ru</td>\n      <td></td>\n    </tr>\n    <tr>\n      <th>27</th>\n      <td>Чем лечат от COVID-19 в России и мире: гид по ...</td>\n      <td>https://news.mail.ru/card/238/</td>\n      <td>Forbes</td>\n      <td></td>\n    </tr>\n    <tr>\n      <th>28</th>\n      <td>Путин объявил о новых мерах поддержки россиян</td>\n      <td>https://news.mail.ru/card/237/</td>\n      <td>Новости Mail.ru</td>\n      <td></td>\n    </tr>\n    <tr>\n      <th>29</th>\n      <td>Как будут организованы матчи чемпионата России...</td>\n      <td>https://r.mail.ru/n327576835?&amp;rnd=193675817</td>\n      <td>ТАСС</td>\n      <td>2020-06-16T10:21:48+03:00</td>\n    </tr>\n    <tr>\n      <th>30</th>\n      <td>Суперголу русского форварда Малкина — 11 лет. ...</td>\n      <td>https://r.mail.ru/n327585623?&amp;rnd=193675817</td>\n      <td>Sport24</td>\n      <td>2020-06-16T12:57:11+03:00</td>\n    </tr>\n    <tr>\n      <th>31</th>\n      <td>«Тоттенхэм» вновь рассмотрит возможность подпи...</td>\n      <td>https://r.mail.ru/n327578102?&amp;rnd=193675817</td>\n      <td>Чемпионат.com</td>\n      <td>2020-06-16T10:47:06+03:00</td>\n    </tr>\n    <tr>\n      <th>32</th>\n      <td>СМИ: Обладатель «Золотого мяча» Модрич хочет з...</td>\n      <td>https://r.mail.ru/n327576126?&amp;rnd=193675817</td>\n      <td>ТАСС</td>\n      <td>2020-06-16T10:14:20+03:00</td>\n    </tr>\n  </tbody>\n</table>\n</div>"
     },
     "metadata": {},
     "execution_count": 6
    }
   ],
   "source": [
    "pd.DataFrame(news_mail)"
   ]
  },
  {
   "cell_type": "markdown",
   "metadata": {},
   "source": [
    "### Новости Yandex News"
   ]
  },
  {
   "cell_type": "code",
   "execution_count": 7,
   "metadata": {},
   "outputs": [
    {
     "output_type": "execute_result",
     "data": {
      "text/plain": "                                                title  \\\n0   Полицейский и сотрудник Росгвардии погибли в п...   \n1   Сенатор предложил в 2021 году сократить нового...   \n2   В Госдуму внесли законопроект об удаленной работе   \n3   В ФРГ призвали отвечать на санкции США против ...   \n4   В Дагестане граждане Азербайджана начали перес...   \n..                                                ...   \n60  Chevrolet вновь начал продавать в РФ бюджетные...   \n61  В России появилась новая схема обмана при прод...   \n62   Nissan представил новый кроссовер Nissan X-Trail   \n63  Российских водителей ждет ряд нововведений с 1...   \n64   Lexus представил седан Lexus IS нового поколения   \n\n                                                  url           source  \\\n0   https://yandex.ru/news/story/Policejskij_i_sot...        Интерфакс   \n1   https://yandex.ru/news/story/Senator_predlozhi...         Известия   \n2   https://yandex.ru/news/story/V_Gosdumu_vnesli_...      РИА Новости   \n3   https://yandex.ru/news/story/V_FRG_prizvali_ot...    RT на русском   \n4   https://yandex.ru/news/story/V_Dagestane_grazh...    RT на русском   \n..                                                ...              ...   \n60  https://yandex.ru/news/story/Chevrolet_vnov_na...        32CARS.ru   \n61  https://yandex.ru/news/story/V_Rossii_poyavila...            ПРАЙМ   \n62  https://yandex.ru/news/story/Nissan_predstavil...  Автоновости дня   \n63  https://yandex.ru/news/story/Rossijskikh_vodit...          SpeedMe   \n64  https://yandex.ru/news/story/Lexus_predstavil_...  Автоновости дня   \n\n                         date  \n0  2020-06-16 16:35:38.540483  \n1  2020-06-16 16:34:38.541483  \n2  2020-06-16 16:30:38.541483  \n3  2020-06-16 16:32:38.541483  \n4  2020-06-16 16:32:38.541483  \n..                        ...  \n60 2020-06-16 13:23:38.549484  \n61 2020-06-16 16:09:38.549484  \n62 2020-06-16 12:43:38.549484  \n63 2020-06-16 16:00:38.549484  \n64 2020-06-16 15:22:38.549484  \n\n[65 rows x 4 columns]",
      "text/html": "<div>\n<style scoped>\n    .dataframe tbody tr th:only-of-type {\n        vertical-align: middle;\n    }\n\n    .dataframe tbody tr th {\n        vertical-align: top;\n    }\n\n    .dataframe thead th {\n        text-align: right;\n    }\n</style>\n<table border=\"1\" class=\"dataframe\">\n  <thead>\n    <tr style=\"text-align: right;\">\n      <th></th>\n      <th>title</th>\n      <th>url</th>\n      <th>source</th>\n      <th>date</th>\n    </tr>\n  </thead>\n  <tbody>\n    <tr>\n      <th>0</th>\n      <td>Полицейский и сотрудник Росгвардии погибли в п...</td>\n      <td>https://yandex.ru/news/story/Policejskij_i_sot...</td>\n      <td>Интерфакс</td>\n      <td>2020-06-16 16:35:38.540483</td>\n    </tr>\n    <tr>\n      <th>1</th>\n      <td>Сенатор предложил в 2021 году сократить нового...</td>\n      <td>https://yandex.ru/news/story/Senator_predlozhi...</td>\n      <td>Известия</td>\n      <td>2020-06-16 16:34:38.541483</td>\n    </tr>\n    <tr>\n      <th>2</th>\n      <td>В Госдуму внесли законопроект об удаленной работе</td>\n      <td>https://yandex.ru/news/story/V_Gosdumu_vnesli_...</td>\n      <td>РИА Новости</td>\n      <td>2020-06-16 16:30:38.541483</td>\n    </tr>\n    <tr>\n      <th>3</th>\n      <td>В ФРГ призвали отвечать на санкции США против ...</td>\n      <td>https://yandex.ru/news/story/V_FRG_prizvali_ot...</td>\n      <td>RT на русском</td>\n      <td>2020-06-16 16:32:38.541483</td>\n    </tr>\n    <tr>\n      <th>4</th>\n      <td>В Дагестане граждане Азербайджана начали перес...</td>\n      <td>https://yandex.ru/news/story/V_Dagestane_grazh...</td>\n      <td>RT на русском</td>\n      <td>2020-06-16 16:32:38.541483</td>\n    </tr>\n    <tr>\n      <th>...</th>\n      <td>...</td>\n      <td>...</td>\n      <td>...</td>\n      <td>...</td>\n    </tr>\n    <tr>\n      <th>60</th>\n      <td>Chevrolet вновь начал продавать в РФ бюджетные...</td>\n      <td>https://yandex.ru/news/story/Chevrolet_vnov_na...</td>\n      <td>32CARS.ru</td>\n      <td>2020-06-16 13:23:38.549484</td>\n    </tr>\n    <tr>\n      <th>61</th>\n      <td>В России появилась новая схема обмана при прод...</td>\n      <td>https://yandex.ru/news/story/V_Rossii_poyavila...</td>\n      <td>ПРАЙМ</td>\n      <td>2020-06-16 16:09:38.549484</td>\n    </tr>\n    <tr>\n      <th>62</th>\n      <td>Nissan представил новый кроссовер Nissan X-Trail</td>\n      <td>https://yandex.ru/news/story/Nissan_predstavil...</td>\n      <td>Автоновости дня</td>\n      <td>2020-06-16 12:43:38.549484</td>\n    </tr>\n    <tr>\n      <th>63</th>\n      <td>Российских водителей ждет ряд нововведений с 1...</td>\n      <td>https://yandex.ru/news/story/Rossijskikh_vodit...</td>\n      <td>SpeedMe</td>\n      <td>2020-06-16 16:00:38.549484</td>\n    </tr>\n    <tr>\n      <th>64</th>\n      <td>Lexus представил седан Lexus IS нового поколения</td>\n      <td>https://yandex.ru/news/story/Lexus_predstavil_...</td>\n      <td>Автоновости дня</td>\n      <td>2020-06-16 15:22:38.549484</td>\n    </tr>\n  </tbody>\n</table>\n<p>65 rows × 4 columns</p>\n</div>"
     },
     "metadata": {},
     "execution_count": 7
    }
   ],
   "source": [
    "pd.DataFrame(news_ya)"
   ]
  },
  {
   "cell_type": "markdown",
   "metadata": {},
   "source": [
    "### Новости Lenta.ru"
   ]
  },
  {
   "cell_type": "code",
   "execution_count": 8,
   "metadata": {},
   "outputs": [
    {
     "output_type": "execute_result",
     "data": {
      "text/plain": "                                                title  \\\n0   Германия отказалась менять позицию по «Северно...   \n1   Порноактриса назвала главную проблему современ...   \n2   Возросло число жертв смертельной перестрелки в...   \n3      Россиянам посоветовали пить теплую воду в жару   \n4         Эксперты объявили о лете нелегальных рейвов   \n..                                                ...   \n71  Данные сотен тысяч любителей онлайн-знакомств ...   \n72  «Боевики заперли нас в больнице, а свои же нас...   \n73      «Что? Где? Когда?» упрекнули в безграмотности   \n74  На одной из линий московского метро снизят сто...   \n75  И эти деды воевали.Война во Вьетнаме глазами ч...   \n\n                                                  url    source  \\\n0             https://lenta.ru/news/2020/06/16/potok/  lenta.ru   \n1             https://lenta.ru/news/2020/06/16/stoya/  lenta.ru   \n2              https://lenta.ru/news/2020/06/16/umer/  lenta.ru   \n3        https://lenta.ru/news/2020/06/16/warm_water/  lenta.ru   \n4         https://lenta.ru/news/2020/06/16/homamrave/  lenta.ru   \n..                                                ...       ...   \n71           https://lenta.ru/news/2020/06/16/dating/  lenta.ru   \n72         https://lenta.ru/articles/2020/06/15/book/  lenta.ru   \n73   https://lenta.ru/news/2020/06/16/chto_gde_kogda/  lenta.ru   \n74  https://moslenta.ru/news/na-odnoi-iz-linii-mos...  lenta.ru   \n75  https://lenta.ru/articles/2020/06/15/dafiveblo...  lenta.ru   \n\n                          date  \n0          16:17, 16 июня 2020  \n1          16:39, 16 июня 2020  \n2          16:35, 16 июня 2020  \n3          16:35, 16 июня 2020  \n4          16:28, 16 июня 2020  \n..                         ...  \n71  2020-06-16 15:45:38.654490  \n72  2020-06-15 00:02:38.655490  \n73  2020-06-16 14:27:38.655490  \n74  2020-06-16 14:15:38.655490  \n75  2020-06-15 00:03:38.655490  \n\n[76 rows x 4 columns]",
      "text/html": "<div>\n<style scoped>\n    .dataframe tbody tr th:only-of-type {\n        vertical-align: middle;\n    }\n\n    .dataframe tbody tr th {\n        vertical-align: top;\n    }\n\n    .dataframe thead th {\n        text-align: right;\n    }\n</style>\n<table border=\"1\" class=\"dataframe\">\n  <thead>\n    <tr style=\"text-align: right;\">\n      <th></th>\n      <th>title</th>\n      <th>url</th>\n      <th>source</th>\n      <th>date</th>\n    </tr>\n  </thead>\n  <tbody>\n    <tr>\n      <th>0</th>\n      <td>Германия отказалась менять позицию по «Северно...</td>\n      <td>https://lenta.ru/news/2020/06/16/potok/</td>\n      <td>lenta.ru</td>\n      <td>16:17, 16 июня 2020</td>\n    </tr>\n    <tr>\n      <th>1</th>\n      <td>Порноактриса назвала главную проблему современ...</td>\n      <td>https://lenta.ru/news/2020/06/16/stoya/</td>\n      <td>lenta.ru</td>\n      <td>16:39, 16 июня 2020</td>\n    </tr>\n    <tr>\n      <th>2</th>\n      <td>Возросло число жертв смертельной перестрелки в...</td>\n      <td>https://lenta.ru/news/2020/06/16/umer/</td>\n      <td>lenta.ru</td>\n      <td>16:35, 16 июня 2020</td>\n    </tr>\n    <tr>\n      <th>3</th>\n      <td>Россиянам посоветовали пить теплую воду в жару</td>\n      <td>https://lenta.ru/news/2020/06/16/warm_water/</td>\n      <td>lenta.ru</td>\n      <td>16:35, 16 июня 2020</td>\n    </tr>\n    <tr>\n      <th>4</th>\n      <td>Эксперты объявили о лете нелегальных рейвов</td>\n      <td>https://lenta.ru/news/2020/06/16/homamrave/</td>\n      <td>lenta.ru</td>\n      <td>16:28, 16 июня 2020</td>\n    </tr>\n    <tr>\n      <th>...</th>\n      <td>...</td>\n      <td>...</td>\n      <td>...</td>\n      <td>...</td>\n    </tr>\n    <tr>\n      <th>71</th>\n      <td>Данные сотен тысяч любителей онлайн-знакомств ...</td>\n      <td>https://lenta.ru/news/2020/06/16/dating/</td>\n      <td>lenta.ru</td>\n      <td>2020-06-16 15:45:38.654490</td>\n    </tr>\n    <tr>\n      <th>72</th>\n      <td>«Боевики заперли нас в больнице, а свои же нас...</td>\n      <td>https://lenta.ru/articles/2020/06/15/book/</td>\n      <td>lenta.ru</td>\n      <td>2020-06-15 00:02:38.655490</td>\n    </tr>\n    <tr>\n      <th>73</th>\n      <td>«Что? Где? Когда?» упрекнули в безграмотности</td>\n      <td>https://lenta.ru/news/2020/06/16/chto_gde_kogda/</td>\n      <td>lenta.ru</td>\n      <td>2020-06-16 14:27:38.655490</td>\n    </tr>\n    <tr>\n      <th>74</th>\n      <td>На одной из линий московского метро снизят сто...</td>\n      <td>https://moslenta.ru/news/na-odnoi-iz-linii-mos...</td>\n      <td>lenta.ru</td>\n      <td>2020-06-16 14:15:38.655490</td>\n    </tr>\n    <tr>\n      <th>75</th>\n      <td>И эти деды воевали.Война во Вьетнаме глазами ч...</td>\n      <td>https://lenta.ru/articles/2020/06/15/dafiveblo...</td>\n      <td>lenta.ru</td>\n      <td>2020-06-15 00:03:38.655490</td>\n    </tr>\n  </tbody>\n</table>\n<p>76 rows × 4 columns</p>\n</div>"
     },
     "metadata": {},
     "execution_count": 8
    }
   ],
   "source": [
    "pd.DataFrame(news_lenta)"
   ]
  },
  {
   "cell_type": "code",
   "execution_count": null,
   "metadata": {},
   "outputs": [],
   "source": []
  }
 ],
 "metadata": {
  "language_info": {
   "codemirror_mode": {
    "name": "ipython",
    "version": 3
   },
   "file_extension": ".py",
   "mimetype": "text/x-python",
   "name": "python",
   "nbconvert_exporter": "python",
   "pygments_lexer": "ipython3",
   "version": "3.8.3-final"
  },
  "orig_nbformat": 2,
  "kernelspec": {
   "name": "python38032bit469b957ea6724d7195dbc0f0a07bae49",
   "display_name": "Python 3.8.0 32-bit"
  }
 },
 "nbformat": 4,
 "nbformat_minor": 2
}
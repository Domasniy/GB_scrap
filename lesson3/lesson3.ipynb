{
 "cells": [
  {
   "cell_type": "code",
   "execution_count": 160,
   "metadata": {},
   "outputs": [],
   "source": [
    "from bs4 import BeautifulSoup as bs\n",
    "import requests\n",
    "from pprint import pprint\n",
    "import pandas as pd\n",
    "import re\n",
    "from pymongo import MongoClient\n",
    "import hashlib"
   ]
  },
  {
   "cell_type": "code",
   "execution_count": 161,
   "metadata": {},
   "outputs": [],
   "source": [
    "vacancies = []\n",
    "more_page = True"
   ]
  },
  {
   "cell_type": "code",
   "execution_count": 162,
   "metadata": {},
   "outputs": [],
   "source": [
    "#Функция обработки отдельного блока вакансии\n",
    "def get_vacancy_info(vacancy):\n",
    "    #Название вакансии\n",
    "    vacancy_name = vacancy.find('span',{'class':'resume-search-item__name'}).text\n",
    "    #Зарплата\n",
    "    vacancy_salary = vacancy.find('div',{'class':'vacancy-serp-item__sidebar'}).text.replace(\"\\xa0\",\"\")\n",
    "    if not vacancy_salary or vacancy_salary == 'По договоренности':\n",
    "        salary_min = None\n",
    "        salary_max = None\n",
    "        salary_cur = None\n",
    "    elif re.findall(r'^\\w+', vacancy_salary)[0] == 'от':\n",
    "        salary_min = int(re.findall(r'\\d+', vacancy_salary)[0])\n",
    "        salary_max = None\n",
    "        salary_cur = re.findall(r'\\w+', vacancy_salary)[-1]\n",
    "    elif re.findall(r'^\\w+', vacancy_salary)[0] == 'до':\n",
    "        salary_max = int(re.findall(r'\\d+', vacancy_salary)[0])\n",
    "        salary_min = None\n",
    "        salary_cur = re.findall(r'\\w+', vacancy_salary)[-1]\n",
    "    else:\n",
    "        salary_min = int(re.findall(r'\\w+', vacancy_salary)[0])\n",
    "        salary_max = int(re.findall(r'\\w+', vacancy_salary)[1])\n",
    "        salary_cur = re.findall(r'\\w+', vacancy_salary)[-1]\n",
    "    \n",
    "    #Ссылка\n",
    "    vacancy_url = vacancy.find('span',{'class':'resume-search-item__name'}).a['href']\n",
    "    #хеш документа\n",
    "    vac_hash = hashlib.md5()\n",
    "    vac_hash.update(repr({'name' : vacancy_name, 'salary_min' : salary_min, 'salary_max' : salary_max, 'salary_cur' : salary_cur, 'url' :vacancy_url}).encode('utf-8'))\n",
    "    \n",
    "\n",
    "    return {'name' : vacancy_name, 'salary_min' : salary_min, 'salary_max' : salary_max, 'salary_cur' : salary_cur, 'url' :vacancy_url, 'hash': vac_hash.hexdigest()}"
   ]
  },
  {
   "cell_type": "code",
   "execution_count": 163,
   "metadata": {},
   "outputs": [],
   "source": [
    "#Функция обработки отдельных страниц\n",
    "def parse_page(url):\n",
    "    print(f'Parsing url: {url}')\n",
    "    \n",
    "    response = requests.get(url,headers=headers)\n",
    "    soup = bs(response.text, 'lxml')      \n",
    "    vacancy_all = soup.findAll('div', {'class':'vacancy-serp-item'})\n",
    "    for vac in vacancy_all:\n",
    "      vacancies.append(get_vacancy_info(vac))\n",
    "    try:\n",
    "        # проверяем есть ли кнопка Далее, и если есть возращаем линк, если нет возращаем False\n",
    "        new_link = 'https://hh.ru' + soup.find('a',{'class':'HH-Pager-Controls-Next'})['href']\n",
    "        return new_link\n",
    "    except:\n",
    "        return False"
   ]
  },
  {
   "cell_type": "code",
   "execution_count": 164,
   "metadata": {},
   "outputs": [],
   "source": [
    "job_title = input('Введите название должности: ')\n",
    "main_link = 'https://hh.ru/search/vacancy'\n",
    "params = {'text':job_title, 'page' :'0'}\n",
    "headers = {'User-Agent': 'Mozilla/5.0'}"
   ]
  },
  {
   "cell_type": "code",
   "execution_count": 166,
   "metadata": {},
   "outputs": [],
   "source": [
    "response = requests.get(main_link,params=params, headers=headers)\n",
    "soup = bs(response.text, 'lxml')\n",
    "vacancy_all = soup.findAll('div', {'class':'vacancy-serp-item'})\n",
    "for vac in vacancy_all:\n",
    "    vacancies.append(get_vacancy_info(vac))"
   ]
  },
  {
   "cell_type": "code",
   "execution_count": 167,
   "metadata": {
    "tags": [
     "outputPrepend",
     "outputPrepend",
     "outputPrepend",
     "outputPrepend",
     "outputPrepend",
     "outputPrepend"
    ]
   },
   "outputs": [
    {
     "output_type": "stream",
     "name": "stdout",
     "text": "Parsing url: https://hh.ru/search/vacancy?L_is_autosearch=false&clusters=true&enable_snippets=true&text=Data+Science&page=1\nParsing url: https://hh.ru/search/vacancy?L_is_autosearch=false&clusters=true&enable_snippets=true&text=Data+Science&page=2\nParsing url: https://hh.ru/search/vacancy?L_is_autosearch=false&clusters=true&enable_snippets=true&text=Data+Science&page=3\nParsing url: https://hh.ru/search/vacancy?L_is_autosearch=false&clusters=true&enable_snippets=true&text=Data+Science&page=4\nParsing url: https://hh.ru/search/vacancy?L_is_autosearch=false&clusters=true&enable_snippets=true&text=Data+Science&page=5\nParsing url: https://hh.ru/search/vacancy?L_is_autosearch=false&clusters=true&enable_snippets=true&text=Data+Science&page=6\nParsing url: https://hh.ru/search/vacancy?L_is_autosearch=false&clusters=true&enable_snippets=true&text=Data+Science&page=7\nParsing url: https://hh.ru/search/vacancy?L_is_autosearch=false&clusters=true&enable_snippets=true&text=Data+Science&page=8\nParsing url: https://hh.ru/search/vacancy?L_is_autosearch=false&clusters=true&enable_snippets=true&text=Data+Science&page=9\nParsing url: https://hh.ru/search/vacancy?L_is_autosearch=false&clusters=true&enable_snippets=true&text=Data+Science&page=10\nParsing url: https://hh.ru/search/vacancy?L_is_autosearch=false&clusters=true&enable_snippets=true&text=Data+Science&page=11\nParsing url: https://hh.ru/search/vacancy?L_is_autosearch=false&clusters=true&enable_snippets=true&text=Data+Science&page=12\nParsing url: https://hh.ru/search/vacancy?L_is_autosearch=false&clusters=true&enable_snippets=true&text=Data+Science&page=13\nParsing url: https://hh.ru/search/vacancy?L_is_autosearch=false&clusters=true&enable_snippets=true&text=Data+Science&page=14\n"
    }
   ],
   "source": [
    "# Проверяем есть ли клавиша Далее, и даем либо новый линк, либо завершаем\n",
    "try:\n",
    "    new_link = 'https://hh.ru' + soup.find('a',{'class':'HH-Pager-Controls-Next'})['href']\n",
    "except:\n",
    "    more_page = False\n",
    "while more_page:\n",
    "    if not new_link:\n",
    "        break\n",
    "    new_link = parse_page(new_link)\n",
    "     "
   ]
  },
  {
   "cell_type": "code",
   "execution_count": 168,
   "metadata": {},
   "outputs": [
    {
     "output_type": "stream",
     "name": "stdout",
     "text": "Всего найдено 733 вакансий по запросу Data Science\n"
    }
   ],
   "source": [
    "print(f'Всего найдено {len(vacancies)} вакансий по запросу {job_title}')"
   ]
  },
  {
   "cell_type": "code",
   "execution_count": 169,
   "metadata": {},
   "outputs": [
    {
     "output_type": "execute_result",
     "data": {
      "text/plain": "{'name': 'ML Разработчик / Data scientist',\n 'salary_min': None,\n 'salary_max': None,\n 'salary_cur': None,\n 'url': 'https://hh.ru/vacancy/37422856?query=Data%20Science',\n 'hash': '5c901c8520569452c62cba9199efc506'}"
     },
     "metadata": {},
     "execution_count": 169
    }
   ],
   "source": [
    "vacancies[1]"
   ]
  },
  {
   "cell_type": "code",
   "execution_count": 170,
   "metadata": {},
   "outputs": [],
   "source": [
    "def store_vacancies_mongo(host, port, vacs):    \n",
    "    # Функция принимает 3 аргумента: host - адрес сервера Mongodb, port - порт, vacs - список словарей вакансий\n",
    "    # Проверка дубликатов идет через хеш документа\n",
    "    client = MongoClient(host, port)\n",
    "    db = client['GB']\n",
    "    vacancies_grab = db.vacancies\n",
    "    for vac in vacancies:\n",
    "        vacancies_grab.update_one({'hash': vac['hash']},{'$set': vac}, upsert=True)\n",
    "    print(f'Всего в базе {vacancies_grab.count_documents({})} документов')"
   ]
  },
  {
   "cell_type": "code",
   "execution_count": 133,
   "metadata": {},
   "outputs": [
    {
     "output_type": "stream",
     "name": "stderr",
     "text": "<ipython-input-133-0d69fb3f4946>:1: DeprecationWarning: count is deprecated. Use Collection.count_documents instead.\n  vacancies_grab.find({'$or': [{'salary_max': {'$gt': 100000}},{'salary_min':{'$gt': 100000}}]}, {'name': 1, 'salary_min': 1,'salary_max': 1,'salary_cur': 1,'url': 1, '_id': 0}).count()\n"
    },
    {
     "output_type": "execute_result",
     "data": {
      "text/plain": "61"
     },
     "metadata": {},
     "execution_count": 133
    }
   ],
   "source": [
    "vacancies_grab.find({'$or': [{'salary_max': {'$gt': 100000}},{'salary_min':{'$gt': 100000}}]}, {'name': 1, 'salary_min': 1,'salary_max': 1,'salary_cur': 1,'url': 1, '_id': 0}).count()"
   ]
  },
  {
   "cell_type": "code",
   "execution_count": 171,
   "metadata": {},
   "outputs": [],
   "source": [
    "def search_salary_gt(salary):\n",
    "    finded = vacancies_grab.find({'$or': [{'salary_max': {'$gt': salary}},{'salary_min':{'$gt': salary}}]}, {'name': 1, 'salary_min': 1,'salary_max': 1,'salary_cur': 1,'url': 1, '_id': 0})\n",
    "    num = vacancies_grab.count_documents({'$or': [{'salary_max': {'$gt': salary}},{'salary_min':{'$gt': salary}}]})\n",
    "    print(f'Всего найдена {num} с зарплатой больше {salary}')\n",
    "    for vac in finded:\n",
    "        print(vac)"
   ]
  },
  {
   "cell_type": "code",
   "execution_count": 172,
   "metadata": {},
   "outputs": [
    {
     "output_type": "stream",
     "name": "stdout",
     "text": "Всего в базе 730 документов\n"
    }
   ],
   "source": [
    "store_vacancies_mongo('127.0.0.1',27017, vacancies)"
   ]
  },
  {
   "cell_type": "code",
   "execution_count": 173,
   "metadata": {
    "tags": [
     "outputPrepend"
    ]
   },
   "outputs": [
    {
     "output_type": "stream",
     "name": "stdout",
     "text": "Всего найдена 3 с зарплатой больше 300000\n{'name': 'Разработчик', 'salary_cur': 'KZT', 'salary_max': 1000000, 'salary_min': 500000, 'url': 'https://hh.ru/vacancy/37111876?query=Data%20Science'}\n{'name': 'Public Policy Research Analyst (Russian speaking, freelance)', 'salary_cur': 'руб', 'salary_max': 800000, 'salary_min': 200000, 'url': 'https://hh.ru/vacancy/37373568?query=Data%20Science'}\n{'name': 'Fullstack JavaScript разработчик', 'salary_cur': 'KZT', 'salary_max': 700000, 'salary_min': 300000, 'url': 'https://hh.ru/vacancy/37112096?query=Data%20Science'}\n"
    }
   ],
   "source": [
    "search_salary_gt(300000)"
   ]
  },
  {
   "cell_type": "code",
   "execution_count": null,
   "metadata": {},
   "outputs": [],
   "source": []
  }
 ],
 "metadata": {
  "language_info": {
   "codemirror_mode": {
    "name": "ipython",
    "version": 3
   },
   "file_extension": ".py",
   "mimetype": "text/x-python",
   "name": "python",
   "nbconvert_exporter": "python",
   "pygments_lexer": "ipython3",
   "version": "3.8.0-final"
  },
  "orig_nbformat": 2,
  "kernelspec": {
   "name": "python38032bit469b957ea6724d7195dbc0f0a07bae49",
   "display_name": "Python 3.8.0 32-bit"
  }
 },
 "nbformat": 4,
 "nbformat_minor": 2
}